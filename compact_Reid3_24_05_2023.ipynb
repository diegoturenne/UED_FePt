{
 "cells": [
  {
   "cell_type": "code",
   "execution_count": 2,
   "id": "cfe6608e",
   "metadata": {},
   "outputs": [
    {
     "name": "stderr",
     "output_type": "stream",
     "text": [
      "WARNING:silx.opencl.common:Unable to import pyOpenCl. Please install it from: https://pypi.org/project/pyopencl\n"
     ]
    },
    {
     "ename": "ModuleNotFoundError",
     "evalue": "No module named 'dt_functions'",
     "output_type": "error",
     "traceback": [
      "\u001b[0;31m---------------------------------------------------------------------------\u001b[0m",
      "\u001b[0;31mModuleNotFoundError\u001b[0m                       Traceback (most recent call last)",
      "\u001b[0;32m<ipython-input-2-fbc70179ee30>\u001b[0m in \u001b[0;36m<module>\u001b[0;34m\u001b[0m\n\u001b[1;32m     55\u001b[0m     \u001b[0mprint\u001b[0m\u001b[0;34m(\u001b[0m\u001b[0;34m'No pyFAI library found. If you want to do azimuthal integrations - install it!'\u001b[0m\u001b[0;34m)\u001b[0m\u001b[0;34m\u001b[0m\u001b[0;34m\u001b[0m\u001b[0m\n\u001b[1;32m     56\u001b[0m \u001b[0;34m\u001b[0m\u001b[0m\n\u001b[0;32m---> 57\u001b[0;31m \u001b[0;32mimport\u001b[0m \u001b[0mdt_functions\u001b[0m \u001b[0;32mas\u001b[0m \u001b[0mdt\u001b[0m\u001b[0;34m\u001b[0m\u001b[0;34m\u001b[0m\u001b[0m\n\u001b[0m",
      "\u001b[0;31mModuleNotFoundError\u001b[0m: No module named 'dt_functions'"
     ]
    }
   ],
   "source": [
    "# %matplotlib nbagg\n",
    "%matplotlib inline\n",
    "\n",
    "import matplotlib.pyplot as plt\n",
    "import matplotlib.cm as cm\n",
    "import matplotlib.patches as patch\n",
    "from matplotlib.patches import Polygon\n",
    "\n",
    "plt.rcParams['xtick.minor.visible'] = True\n",
    "plt.rcParams['ytick.minor.visible'] = True\n",
    "\n",
    "import pandas as pd\n",
    "\n",
    "import numpy as np\n",
    "import scipy as sp\n",
    "# import scipy.optimize \n",
    "import scipy.optimize as opt\n",
    "from scipy.optimize import curve_fit\n",
    "from scipy.misc import face\n",
    "from scipy import interpolate\n",
    "\n",
    "import glob\n",
    "import csv\n",
    "import re\n",
    "import sys \n",
    "import os\n",
    "import copy\n",
    "import time\n",
    "import h5py\n",
    "import skimage.feature\n",
    "import skimage.filters\n",
    "import skimage.measure\n",
    "import socket  \n",
    "import itertools\n",
    "from tqdm.notebook import tqdm as tqdm\n",
    "\n",
    "from IPython.display import display, clear_output, Markdown\n",
    "from PIL import Image, ImageOps\n",
    "\n",
    "from ipywidgets import interact, interactive, fixed, interact_manual, Layout\n",
    "import ipywidgets as widgets\n",
    "\n",
    "import cv2\n",
    "\n",
    "udir = '/cds/home/d/diegotur/UED/'\n",
    "\n",
    "if udir not in sys.path:\n",
    "    sys.path.append(udir)\n",
    "\n",
    "import ued_dt3 as ued_dt\n",
    "try:\n",
    "    import pyFAI, pyFAI.detectors\n",
    "    from pyFAI.azimuthalIntegrator import AzimuthalIntegrator\n",
    "except:\n",
    "    print('No pyFAI library found. If you want to do azimuthal integrations - install it!')\n",
    "\n",
    "import dt_functions as dt\n"
   ]
  },
  {
   "cell_type": "code",
   "execution_count": null,
   "id": "ad304c8d",
   "metadata": {},
   "outputs": [],
   "source": [
    "data_path = [\n",
    "    ## Sample Reid#3 7nm NPs \n",
    "      '/cds/group/ued/data/ueduu0701/FePt/20190713/Run/20190713_2021/',  #   Reid#3, Fluence = 4 mJ/cm^2 (diffuse) run 20  (4.5 hours)\n",
    "      '/cds/group/ued/data/ueduu0701/FePt/20190715/Run/20190715_0252/',  #   Reid#3, Fluence = 4 mJ/cm^2 (diffuse) run ???  )\n",
    "\n",
    "]\n",
    "\n",
    "\n",
    "#manually picked ROIs. otherwise can be picked on the images\n",
    "roinames = ['100', '010', '-100', '0-10']\n",
    "\n",
    "# ##ROI COORDS FOR REID#3 (scans up to scan 11  )\n",
    "roicoord = [\n",
    "    [425.719203896629, 447.27946659749034],\n",
    "    [566.5981163772879, 466.7329921805848],\n",
    "    [549.3065779277509, 611.0787981335249],\n",
    "    [408.2835757825091, 589.498444929509]\n",
    "    ]\n",
    "#create diffraction object\n",
    "dif = ued_dt.diffraction(sample = 'FePt 6-1 16nm', data_path = data_path, roisize=40, maxorder = '550', roicoord=roicoord, roinames = roinames, a_reference=0.336, noscans=False, skipnimages=0, plot_width=15)\n",
    "\n",
    "# try:\n",
    "#     #prepare everything for azimuthal integration\n",
    "#     dif.initialize_pyFAI(pixelsize=13e-6, sample_to_detector=7.7, e_energy=2e6, wl_correction=122.03 )\n",
    "# except:\n",
    "#     print ('AI doesn\\'t work'),\n",
    "\n",
    "dif.exposure = 6.\n",
    "dif.gain = 65.\n",
    "\n",
    "\n",
    "### Delete corrupted image ( and it's I0)\n",
    "corruped_image_fname =   '/cds/group/ued/data/ueduu0701/FePt/20190713/Run/20190713_2021//scan074/images-ANDOR1/ANDOR1_longDelay-010-273.37897900_0001.tif'\n",
    "corruped_image_fnameI0 = '/cds/group/ued/data/ueduu0701/FePt/20190713/Run/20190713_2021//scan074/I0/ANDOR2_longDelay-011-273.3790_20190714_073149.502110_0001.tif'\n",
    "# corruped_image_fnameI0 = '/cds/group/ued/data/ueduu0701/FePt/20190713/Run/20190713_2021//scan074/I0/ANDOR2_longDelay-010-273.3940_20190714_073134.576158_0001.tif'\n",
    "idx_delete = np.where(dif.fnames == corruped_image_fname)\n",
    "\n",
    "dif.fnames = np.delete(dif.fnames,idx_delete)\n",
    "dif.fnames_I0 = np.delete(dif.fnames_I0,idx_delete)\n"
   ]
  },
  {
   "cell_type": "markdown",
   "id": "fd3c8c64",
   "metadata": {},
   "source": [
    "## Import the already binned file"
   ]
  },
  {
   "cell_type": "code",
   "execution_count": 3,
   "id": "02784ac2",
   "metadata": {},
   "outputs": [],
   "source": [
    "import pickle \n",
    "     \n",
    "with open('/cds/home/d/diegotur/UED/FePt/fast_load_Reid3/saved_dif.pkl', 'rb') as f:\n",
    "    dif = pickle.load(f)"
   ]
  },
  {
   "cell_type": "code",
   "execution_count": 4,
   "id": "fd910006",
   "metadata": {},
   "outputs": [
    {
     "data": {
      "text/plain": [
       "(-2.0, 8.0)"
      ]
     },
     "execution_count": 4,
     "metadata": {},
     "output_type": "execute_result"
    },
    {
     "data": {
      "image/png": "[encoded data removed]",
      "text/plain": [
       "<Figure size 432x288 with 1 Axes>"
      ]
     },
     "metadata": {
      "needs_background": "light"
     },
     "output_type": "display_data"
    }
   ],
   "source": [
    "# center moving over time \n",
    "plt.errorbar(dif.bincenters, dif.centerpos_time[:,0], yerr =  dif.centers_time_errors[:,0] )\n",
    "plt.axhline(dif.centerpos_time[:,0].mean())\n",
    "plt.xlim(-2,8)"
   ]
  }
 ],
 "metadata": {
  "kernelspec": {
   "display_name": "diegos_bizzare_adventure_Phantom_Blood",
   "language": "python",
   "name": "diegos_bizzare_adventure_phantom_blood"
  },
  "language_info": {
   "codemirror_mode": {
    "name": "ipython",
    "version": 3
   },
   "file_extension": ".py",
   "mimetype": "text/x-python",
   "name": "python",
   "nbconvert_exporter": "python",
   "pygments_lexer": "ipython3",
   "version": "3.7.9"
  }
 },
 "nbformat": 4,
 "nbformat_minor": 5
}
